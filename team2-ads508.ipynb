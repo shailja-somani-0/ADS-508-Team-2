{
 "cells": [
  {
   "cell_type": "markdown",
   "id": "f40b7602-a8e0-4448-968f-493611b49ca7",
   "metadata": {},
   "source": [
    "# Shailja Somani, John Vincent Deniega, Muris Saab\n",
    "# ADS 508 - Team 2\n",
    "# Spring 2024"
   ]
  },
  {
   "cell_type": "markdown",
   "id": "21647c42-06cc-46ef-9e5e-5c63e7ef1495",
   "metadata": {},
   "source": [
    "## Set-Up"
   ]
  },
  {
   "cell_type": "markdown",
   "id": "065726b6-0aa3-4ff2-a11c-fe285874c0ec",
   "metadata": {
    "tags": []
   },
   "source": [
    "### Initialize SageMaker variables\n",
    "Direct copy from: \n",
    "\n",
    "Coyne, S. (2024, February 27). Update 01_Copy_TSV_To_S3.ipynb [Jupyter Notebook]. GitHub. Retrieved March 15, 2024, from https://github.com/MADS508/labs/blob/main/04_ingest/01_Copy_TSV_To_S3.ipynb."
   ]
  },
  {
   "cell_type": "code",
   "execution_count": 2,
   "id": "6714e484-d48c-45ff-9bb0-280721c2c1cf",
   "metadata": {
    "tags": []
   },
   "outputs": [
    {
     "name": "stdout",
     "output_type": "stream",
     "text": [
      "sagemaker.config INFO - Not applying SDK defaults from location: /etc/xdg/sagemaker/config.yaml\n",
      "sagemaker.config INFO - Not applying SDK defaults from location: /root/.config/sagemaker/config.yaml\n",
      "sagemaker.config INFO - Not applying SDK defaults from location: /etc/xdg/sagemaker/config.yaml\n",
      "sagemaker.config INFO - Not applying SDK defaults from location: /root/.config/sagemaker/config.yaml\n",
      "sagemaker.config INFO - Not applying SDK defaults from location: /etc/xdg/sagemaker/config.yaml\n",
      "sagemaker.config INFO - Not applying SDK defaults from location: /root/.config/sagemaker/config.yaml\n"
     ]
    }
   ],
   "source": [
    "import boto3\n",
    "import sagemaker\n",
    "import pandas as pd\n",
    "\n",
    "sess = sagemaker.Session()\n",
    "bucket = sess.default_bucket()\n",
    "role = sagemaker.get_execution_role()\n",
    "region = boto3.Session().region_name\n",
    "account_id = boto3.client(\"sts\").get_caller_identity().get(\"Account\")\n",
    "\n",
    "sm = boto3.Session().client(service_name=\"sagemaker\", region_name=region)"
   ]
  },
  {
   "cell_type": "markdown",
   "id": "0228e875-1f20-476e-bf34-a5cb2da89278",
   "metadata": {},
   "source": [
    "### Import PyAthena\n",
    "\n",
    "Coyne, S. (2022, October 9). 02_Create_Athena_Database.ipynb [Jupyter Notebook]. GitHub. Retrieved March 15, 2024, from https://github.com/MADS508/labs/commits/main/04_ingest/02_Create_Athena_Database.ipynb."
   ]
  },
  {
   "cell_type": "code",
   "execution_count": 3,
   "id": "d7b25878-a921-4991-a7f3-de71d1946f94",
   "metadata": {
    "tags": []
   },
   "outputs": [
    {
     "name": "stdout",
     "output_type": "stream",
     "text": [
      "\u001b[33mDEPRECATION: pyodbc 4.0.0-unsupported has a non-standard version number. pip 24.0 will enforce this behaviour change. A possible replacement is to upgrade to a newer version of pyodbc or contact the author to suggest that they release a version with a conforming version number. Discussion can be found at https://github.com/pypa/pip/issues/12063\u001b[0m\u001b[33m\n",
      "\u001b[0m\u001b[33mWARNING: Running pip as the 'root' user can result in broken permissions and conflicting behaviour with the system package manager. It is recommended to use a virtual environment instead: https://pip.pypa.io/warnings/venv\u001b[0m\u001b[33m\n",
      "\u001b[0m"
     ]
    }
   ],
   "source": [
    "!pip install --disable-pip-version-check -q PyAthena==2.1.0\n",
    "from pyathena import connect"
   ]
  },
  {
   "cell_type": "markdown",
   "id": "9cd383e0-5d6e-4ab4-bcd0-522e0842ebd5",
   "metadata": {
    "tags": []
   },
   "source": [
    "### Create & Verify Athena Database\n",
    "\n",
    "Coyne, S. (2022, October 9). 02_Create_Athena_Database.ipynb [Jupyter Notebook]. GitHub. Retrieved March 15, 2024, from https://github.com/MADS508/labs/commits/main/04_ingest/02_Create_Athena_Database.ipynb."
   ]
  },
  {
   "cell_type": "code",
   "execution_count": 24,
   "id": "f5ecd87a-a866-4f76-9f1c-829be8b76400",
   "metadata": {
    "tags": []
   },
   "outputs": [
    {
     "name": "stdout",
     "output_type": "stream",
     "text": [
      "CREATE DATABASE IF NOT EXISTS covid\n"
     ]
    },
    {
     "data": {
      "text/html": [
       "<div>\n",
       "<style scoped>\n",
       "    .dataframe tbody tr th:only-of-type {\n",
       "        vertical-align: middle;\n",
       "    }\n",
       "\n",
       "    .dataframe tbody tr th {\n",
       "        vertical-align: top;\n",
       "    }\n",
       "\n",
       "    .dataframe thead th {\n",
       "        text-align: right;\n",
       "    }\n",
       "</style>\n",
       "<table border=\"1\" class=\"dataframe\">\n",
       "  <thead>\n",
       "    <tr style=\"text-align: right;\">\n",
       "      <th></th>\n",
       "    </tr>\n",
       "  </thead>\n",
       "  <tbody>\n",
       "  </tbody>\n",
       "</table>\n",
       "</div>"
      ],
      "text/plain": [
       "Empty DataFrame\n",
       "Columns: []\n",
       "Index: []"
      ]
     },
     "execution_count": 24,
     "metadata": {},
     "output_type": "execute_result"
    }
   ],
   "source": [
    "database_name = \"covid\"\n",
    "s3_staging_dir = \"s3://{0}/athena/staging\".format(bucket)\n",
    "conn = connect(region_name=region, s3_staging_dir=s3_staging_dir)\n",
    "statement = \"CREATE DATABASE IF NOT EXISTS {}\".format(database_name)\n",
    "print(statement)\n",
    "pd.read_sql(statement, conn)"
   ]
  },
  {
   "cell_type": "code",
   "execution_count": 25,
   "id": "7e23235c-b82a-4d70-81ca-a6b6953fcc18",
   "metadata": {
    "tags": []
   },
   "outputs": [
    {
     "data": {
      "text/html": [
       "<div>\n",
       "<style scoped>\n",
       "    .dataframe tbody tr th:only-of-type {\n",
       "        vertical-align: middle;\n",
       "    }\n",
       "\n",
       "    .dataframe tbody tr th {\n",
       "        vertical-align: top;\n",
       "    }\n",
       "\n",
       "    .dataframe thead th {\n",
       "        text-align: right;\n",
       "    }\n",
       "</style>\n",
       "<table border=\"1\" class=\"dataframe\">\n",
       "  <thead>\n",
       "    <tr style=\"text-align: right;\">\n",
       "      <th></th>\n",
       "      <th>database_name</th>\n",
       "    </tr>\n",
       "  </thead>\n",
       "  <tbody>\n",
       "    <tr>\n",
       "      <th>0</th>\n",
       "      <td>covid</td>\n",
       "    </tr>\n",
       "    <tr>\n",
       "      <th>1</th>\n",
       "      <td>default</td>\n",
       "    </tr>\n",
       "    <tr>\n",
       "      <th>2</th>\n",
       "      <td>dsoaws</td>\n",
       "    </tr>\n",
       "  </tbody>\n",
       "</table>\n",
       "</div>"
      ],
      "text/plain": [
       "  database_name\n",
       "0         covid\n",
       "1       default\n",
       "2        dsoaws"
      ]
     },
     "execution_count": 25,
     "metadata": {},
     "output_type": "execute_result"
    }
   ],
   "source": [
    "statement = \"SHOW DATABASES\"\n",
    "\n",
    "df_show = pd.read_sql(statement, conn)\n",
    "df_show.head(5)"
   ]
  },
  {
   "cell_type": "markdown",
   "id": "c653ccd5-a9bb-4bbe-ae4f-46f5e93678a7",
   "metadata": {
    "jp-MarkdownHeadingCollapsed": true,
    "tags": []
   },
   "source": [
    "## Copy 5 CSVs from Public S3 Bucket into My Private Bucket"
   ]
  },
  {
   "cell_type": "code",
   "execution_count": 67,
   "id": "2a29592a-2bff-4c21-8825-e28e8f2e6a79",
   "metadata": {
    "tags": []
   },
   "outputs": [
    {
     "name": "stdout",
     "output_type": "stream",
     "text": [
      "2024-03-16 23:56:13     592336 01_MD_COVID-19_-_Cases_by_ZIP_Code.csv\n",
      "2024-03-17 22:02:37   61876919 02_SDOH_2020_ZIPCODE_1_0.csv\n",
      "2024-03-16 23:56:16    3660534 03_PLACES__Local_Data_for_Better_Health__ZCTA_Data_2023_release.csv\n",
      "2024-03-17 22:09:43     164479 04_Maryland_Census_Data_-_ZIP_Code_Tabulation_Areas.csv\n",
      "2024-03-17 22:02:39    2564885 05_ZIPCodetoZCTACrosswalk2022UDS.csv\n"
     ]
    }
   ],
   "source": [
    "# Check what is in public S3 bucket for our team\n",
    "s3_public_path_csv = \"s3://ads508-team2-spring24/\"\n",
    "!aws s3 ls $s3_public_path_csv"
   ]
  },
  {
   "cell_type": "code",
   "execution_count": 57,
   "id": "06dc4503-daa0-4bb1-8184-420a2d4b253c",
   "metadata": {
    "tags": []
   },
   "outputs": [
    {
     "name": "stdout",
     "output_type": "stream",
     "text": [
      "copy: s3://ads508-team2-spring24/01_MD_COVID-19_-_Cases_by_ZIP_Code.csv to s3://sagemaker-us-east-1-590183834230/ads508-team2-spring24/md_covid_cases/01_MD_COVID-19_-_Cases_by_ZIP_Code.csv\n"
     ]
    }
   ],
   "source": [
    "# Copy each file from the Public S3 bucket to its own folder in my private S3 bucket \n",
    "# We keep them all in their own folders because Athena external table creation takes in a full S3 folder name, not a file name\n",
    "\n",
    "# Maryland covid cases file - list path names to file in public & where to copy in private\n",
    "s3_public_path_md_covid = \"s3://ads508-team2-spring24/01_MD_COVID-19_-_Cases_by_ZIP_Code.csv\"\n",
    "s3_priv_path_md_covid = \"s3://{}/ads508-team2-spring24/md_covid_cases/01_MD_COVID-19_-_Cases_by_ZIP_Code.csv\".format(bucket)\n",
    "\n",
    "# Actually copy over\n",
    "!aws s3 cp $s3_public_path_md_covid $s3_priv_path_md_covid"
   ]
  },
  {
   "cell_type": "code",
   "execution_count": 58,
   "id": "9e3822a3-1b20-4e28-acab-25b60e47a95c",
   "metadata": {
    "tags": []
   },
   "outputs": [
    {
     "name": "stdout",
     "output_type": "stream",
     "text": [
      "2024-03-17 21:50:06     592336 01_MD_COVID-19_-_Cases_by_ZIP_Code.csv\n"
     ]
    }
   ],
   "source": [
    "# Check that copied properly \n",
    "!aws s3 ls $s3_priv_path_md_covid"
   ]
  },
  {
   "cell_type": "code",
   "execution_count": 64,
   "id": "bb68c04a-a713-4876-abf2-6339fd6d0f7a",
   "metadata": {
    "tags": []
   },
   "outputs": [
    {
     "name": "stdout",
     "output_type": "stream",
     "text": [
      "copy: s3://ads508-team2-spring24/02_SDOH_2020_ZIPCODE_1_0.csv to s3://sagemaker-us-east-1-590183834230/ads508-team2-spring24/sdoh_2020_data/02_SDOH_2020_ZIPCODE_1_0.csv\n",
      "2024-03-17 22:05:35   61876919 02_SDOH_2020_ZIPCODE_1_0.csv\n"
     ]
    }
   ],
   "source": [
    "# SDOH file - list path names to file in public & where to copy in private\n",
    "s3_public_path_sdoh = \"s3://ads508-team2-spring24/02_SDOH_2020_ZIPCODE_1_0.csv\"\n",
    "s3_priv_path_sdoh = \"s3://{}/ads508-team2-spring24/sdoh_2020_data/02_SDOH_2020_ZIPCODE_1_0.csv\".format(bucket)\n",
    "\n",
    "# Actually copy over\n",
    "!aws s3 cp $s3_public_path_sdoh $s3_priv_path_sdoh\n",
    "\n",
    "# Check that copied properly \n",
    "!aws s3 ls $s3_priv_path_sdoh"
   ]
  },
  {
   "cell_type": "code",
   "execution_count": 65,
   "id": "bccc84ce-1345-4492-8a1b-6a532263fa30",
   "metadata": {
    "tags": []
   },
   "outputs": [
    {
     "name": "stdout",
     "output_type": "stream",
     "text": [
      "copy: s3://ads508-team2-spring24/03_PLACES__Local_Data_for_Better_Health__ZCTA_Data_2023_release.csv to s3://sagemaker-us-east-1-590183834230/ads508-team2-spring24/cdc_places_data/03_PLACES__Local_Data_for_Better_Health__ZCTA_Data_2023_release.csv\n",
      "2024-03-17 22:06:21    3660534 03_PLACES__Local_Data_for_Better_Health__ZCTA_Data_2023_release.csv\n"
     ]
    }
   ],
   "source": [
    "# CDC PLACES data file - list path names to file in public & where to copy in private\n",
    "s3_public_path_cdc = \"s3://ads508-team2-spring24/03_PLACES__Local_Data_for_Better_Health__ZCTA_Data_2023_release.csv\"\n",
    "s3_priv_path_cdc = \"s3://{}/ads508-team2-spring24/cdc_places_data/03_PLACES__Local_Data_for_Better_Health__ZCTA_Data_2023_release.csv\".format(bucket)\n",
    "\n",
    "# Actually copy over\n",
    "!aws s3 cp $s3_public_path_cdc $s3_priv_path_cdc\n",
    "\n",
    "# Check that copied properly \n",
    "!aws s3 ls $s3_priv_path_cdc"
   ]
  },
  {
   "cell_type": "code",
   "execution_count": 68,
   "id": "2e81bb75-9c62-4861-9724-6379c9c68168",
   "metadata": {
    "tags": []
   },
   "outputs": [
    {
     "name": "stdout",
     "output_type": "stream",
     "text": [
      "copy: s3://ads508-team2-spring24/04_Maryland_Census_Data_-_ZIP_Code_Tabulation_Areas.csv to s3://sagemaker-us-east-1-590183834230/ads508-team2-spring24/md_census_data/04_Maryland_Census_Data_-_ZIP_Code_Tabulation_Areas.csv\n",
      "2024-03-17 22:10:09     164479 04_Maryland_Census_Data_-_ZIP_Code_Tabulation_Areas.csv\n"
     ]
    }
   ],
   "source": [
    "# MD Census data file - list path names to file in public & where to copy in private\n",
    "s3_public_path_md_census = \"s3://ads508-team2-spring24/04_Maryland_Census_Data_-_ZIP_Code_Tabulation_Areas.csv\"\n",
    "s3_priv_path_md_census = \"s3://{}/ads508-team2-spring24/md_census_data/04_Maryland_Census_Data_-_ZIP_Code_Tabulation_Areas.csv\".format(bucket)\n",
    "\n",
    "# Actually copy over\n",
    "!aws s3 cp $s3_public_path_md_census $s3_priv_path_md_census\n",
    "\n",
    "# Check that copied properly \n",
    "!aws s3 ls $s3_priv_path_md_census"
   ]
  },
  {
   "cell_type": "code",
   "execution_count": 69,
   "id": "5b0793ed-e0ca-4db2-b4ec-0872d1976f04",
   "metadata": {
    "tags": []
   },
   "outputs": [
    {
     "name": "stdout",
     "output_type": "stream",
     "text": [
      "copy: s3://ads508-team2-spring24/05_ZIPCodetoZCTACrosswalk2022UDS.csv to s3://sagemaker-us-east-1-590183834230/ads508-team2-spring24/crosswalk_data/05_ZIPCodetoZCTACrosswalk2022UDS.csv\n",
      "2024-03-17 22:11:13    2564885 05_ZIPCodetoZCTACrosswalk2022UDS.csv\n"
     ]
    }
   ],
   "source": [
    "# Zip Code to ZTCA Crosswalk data file - list path names to file in public & where to copy in private\n",
    "s3_public_path_xwalk = \"s3://ads508-team2-spring24/05_ZIPCodetoZCTACrosswalk2022UDS.csv\"\n",
    "s3_priv_path_xwalk = \"s3://{}/ads508-team2-spring24/crosswalk_data/05_ZIPCodetoZCTACrosswalk2022UDS.csv\".format(bucket)\n",
    "\n",
    "# Actually copy over\n",
    "!aws s3 cp $s3_public_path_xwalk $s3_priv_path_xwalk\n",
    "\n",
    "# Check that copied properly \n",
    "!aws s3 ls $s3_priv_path_xwalk"
   ]
  },
  {
   "cell_type": "code",
   "execution_count": 83,
   "id": "78729a51-e61f-4920-b57c-fdb7a102dcf7",
   "metadata": {
    "tags": []
   },
   "outputs": [
    {
     "name": "stdout",
     "output_type": "stream",
     "text": [
      "                           PRE cdc_places_data/\n",
      "                           PRE crosswalk_data/\n",
      "                           PRE md_census_data/\n",
      "                           PRE md_covid_cases/\n",
      "                           PRE sdoh_2020_data/\n",
      "2024-03-17 21:28:56     592336 01_MD_COVID-19_-_Cases_by_ZIP_Code.csv\n",
      "2024-03-17 21:28:56   61503879 02_SDOH_2020_ZIPCODE_1_0.xlsx\n",
      "2024-03-17 21:28:56    3660534 03_PLACES__Local_Data_for_Better_Health__ZCTA_Data_2023_release.csv\n",
      "2024-03-17 22:09:01     164479 04_Maryland_Census_Data_-_ZIP_Code_Tabulation_Areas.csv\n",
      "2024-03-17 21:28:56    1512369 05_ZIPCodetoZCTACrosswalk2022UDS.xlsx\n"
     ]
    }
   ],
   "source": [
    "# Check that everything is now in my private bucket\n",
    "s3_priv_bucket = \"s3://{}/ads508-team2-spring24/\".format(bucket)\n",
    "!aws s3 ls $s3_priv_bucket"
   ]
  },
  {
   "cell_type": "markdown",
   "id": "0f55b58f-5298-4ea8-845d-6ca5cb0c7b9b",
   "metadata": {
    "tags": []
   },
   "source": [
    "## Create Athena Tables/Parquet Tables from S3 CSV Files\n",
    "\n",
    "Coyne, S. (2022, October 9). 03_Register_S3_TSV_With_Athena.ipynb [Jupyter Notebook]. GitHub. Retrieved March 15, 2024, from https://github.com/MADS508/labs/blob/main/04_ingest/03_Register_S3_TSV_With_Athena.ipynb. \\\n",
    "Coyne, S. (2022, October 9). 04_Convert_S3_TSV_To_Parquet_With_Athena.ipynb [Jupyter Notebook]. GitHub. Retrieved March 17, 2024, from https://github.com/MADS508/labs/blob/main/04_ingest/04_Convert_S3_TSV_To_Parquet_With_Athena.ipynb."
   ]
  },
  {
   "cell_type": "code",
   "execution_count": 26,
   "id": "531b39ed-2aab-48ee-9b9a-911345cfa388",
   "metadata": {
    "tags": []
   },
   "outputs": [],
   "source": [
    "# Set S3 path to parquet data\n",
    "s3_path_parquet = \"s3://{}/ads508-team2-spring24/parquet/\".format(bucket)"
   ]
  },
  {
   "cell_type": "code",
   "execution_count": 27,
   "id": "4f81e404-8687-45a1-8ec9-8c6c7eef8569",
   "metadata": {
    "tags": []
   },
   "outputs": [],
   "source": [
    "# Create string variables to hold names for respective tables and the database for SQL statement\n",
    "MDCovid_table = \"MDCovid\"\n",
    "SDOH_table = \"SDOH\"\n",
    "CDC_table = \"CDC\"\n",
    "MDCensus_table = \"MDCensus\"\n",
    "MDCrosswalk_table = \"MDCrosswalk\"\n",
    "database_name = \"covid\""
   ]
  },
  {
   "cell_type": "markdown",
   "id": "28e24ac1-fa8b-4b71-9afc-67149bed311e",
   "metadata": {},
   "source": [
    "### Tables that don't have meaningful partitions, thus don't need to be parquets for our purposes"
   ]
  },
  {
   "cell_type": "markdown",
   "id": "66ee9b38-ecc6-415a-aa62-e5873e90e1f9",
   "metadata": {
    "jp-MarkdownHeadingCollapsed": true,
    "tags": []
   },
   "source": [
    "#### MD Covid by Zip Code Table "
   ]
  },
  {
   "cell_type": "code",
   "execution_count": 38,
   "id": "d41e794f-d9f2-4315-b75e-8b4c785d205b",
   "metadata": {
    "tags": []
   },
   "outputs": [
    {
     "name": "stdout",
     "output_type": "stream",
     "text": [
      "CREATE EXTERNAL TABLE IF NOT EXISTS covid.MDCovid(\n",
      "         OBJECTID int,\n",
      "         ZIP_CODE int,\n",
      "         total01_01_2022 int,\n",
      "         total01_02_2022 int,\n",
      "         total01_03_2022 int,\n",
      "         total01_04_2022 int,\n",
      "         total01_05_2022 int,\n",
      "         total01_06_2022 int,\n",
      "         total01_07_2022 int,\n",
      "         total01_08_2022 int,\n",
      "         total01_09_2022 int,\n",
      "         total01_10_2022 int\n",
      ") ROW FORMAT DELIMITED FIELDS TERMINATED BY ',' LINES TERMINATED BY '\\n' LOCATION 's3://sagemaker-us-east-1-590183834230/ads508-team2-spring24/md_covid_cases/'\n",
      "TBLPROPERTIES ('skip.header.line.count'='1')\n"
     ]
    }
   ],
   "source": [
    "# Build SQL statement to create MD Covid by Zip Code Athena Table\n",
    "table_name = MDCovid_table\n",
    "path = \"s3://{}/ads508-team2-spring24/md_covid_cases/\".format(bucket)\n",
    "\n",
    "'''\n",
    "NOTE: The covid counts in this table are running totals, not just new cases.\n",
    "However, as stated in our Assignment 2.1, to avoid the additional confounding variable of time, we will just train \n",
    "     & test our model on one week of data at a time. Thus, it's not important how the numbers for each time point are \n",
    "     calculated, as long as it remains consistent for that time point. \n",
    "There is data for every day in 2022, but we don't want to explode our this table that much, so we'll just push the \n",
    "    first 10 days of the year.\n",
    "'''\n",
    "statement = \"\"\"CREATE EXTERNAL TABLE IF NOT EXISTS {}.{}(\n",
    "         OBJECTID int,\n",
    "         ZIP_CODE int,\n",
    "         total01_01_2022 int,\n",
    "         total01_02_2022 int,\n",
    "         total01_03_2022 int,\n",
    "         total01_04_2022 int,\n",
    "         total01_05_2022 int,\n",
    "         total01_06_2022 int,\n",
    "         total01_07_2022 int,\n",
    "         total01_08_2022 int,\n",
    "         total01_09_2022 int,\n",
    "         total01_10_2022 int\n",
    ") ROW FORMAT DELIMITED FIELDS TERMINATED BY ',' LINES TERMINATED BY '\\\\n' LOCATION '{}'\n",
    "TBLPROPERTIES ('skip.header.line.count'='1')\"\"\".format(\n",
    "    database_name, table_name, path\n",
    ")\n",
    "\n",
    "print(statement)"
   ]
  },
  {
   "cell_type": "code",
   "execution_count": 39,
   "id": "06c0467a-a486-40ff-94a8-6681f7ef571a",
   "metadata": {
    "tags": []
   },
   "outputs": [
    {
     "data": {
      "text/html": [
       "<div>\n",
       "<style scoped>\n",
       "    .dataframe tbody tr th:only-of-type {\n",
       "        vertical-align: middle;\n",
       "    }\n",
       "\n",
       "    .dataframe tbody tr th {\n",
       "        vertical-align: top;\n",
       "    }\n",
       "\n",
       "    .dataframe thead th {\n",
       "        text-align: right;\n",
       "    }\n",
       "</style>\n",
       "<table border=\"1\" class=\"dataframe\">\n",
       "  <thead>\n",
       "    <tr style=\"text-align: right;\">\n",
       "      <th></th>\n",
       "    </tr>\n",
       "  </thead>\n",
       "  <tbody>\n",
       "  </tbody>\n",
       "</table>\n",
       "</div>"
      ],
      "text/plain": [
       "Empty DataFrame\n",
       "Columns: []\n",
       "Index: []"
      ]
     },
     "execution_count": 39,
     "metadata": {},
     "output_type": "execute_result"
    }
   ],
   "source": [
    "# Actually create table (execute statement)\n",
    "pd.read_sql(statement, conn)"
   ]
  },
  {
   "cell_type": "code",
   "execution_count": 33,
   "id": "2952bad1-8193-49a9-8004-b830ae64bb1b",
   "metadata": {
    "tags": []
   },
   "outputs": [
    {
     "data": {
      "text/html": [
       "<div>\n",
       "<style scoped>\n",
       "    .dataframe tbody tr th:only-of-type {\n",
       "        vertical-align: middle;\n",
       "    }\n",
       "\n",
       "    .dataframe tbody tr th {\n",
       "        vertical-align: top;\n",
       "    }\n",
       "\n",
       "    .dataframe thead th {\n",
       "        text-align: right;\n",
       "    }\n",
       "</style>\n",
       "<table border=\"1\" class=\"dataframe\">\n",
       "  <thead>\n",
       "    <tr style=\"text-align: right;\">\n",
       "      <th></th>\n",
       "      <th>tab_name</th>\n",
       "    </tr>\n",
       "  </thead>\n",
       "  <tbody>\n",
       "    <tr>\n",
       "      <th>0</th>\n",
       "      <td>mdcovid</td>\n",
       "    </tr>\n",
       "  </tbody>\n",
       "</table>\n",
       "</div>"
      ],
      "text/plain": [
       "  tab_name\n",
       "0  mdcovid"
      ]
     },
     "execution_count": 33,
     "metadata": {},
     "output_type": "execute_result"
    }
   ],
   "source": [
    "# Check that worked\n",
    "statement = \"SHOW TABLES in {}\".format(database_name)\n",
    "\n",
    "df_show = pd.read_sql(statement, conn)\n",
    "df_show.head(5)"
   ]
  },
  {
   "cell_type": "code",
   "execution_count": 37,
   "id": "e15f7adc-c208-4cba-b2b2-7b8710d7bec3",
   "metadata": {
    "tags": []
   },
   "outputs": [
    {
     "data": {
      "text/html": [
       "<div>\n",
       "<style scoped>\n",
       "    .dataframe tbody tr th:only-of-type {\n",
       "        vertical-align: middle;\n",
       "    }\n",
       "\n",
       "    .dataframe tbody tr th {\n",
       "        vertical-align: top;\n",
       "    }\n",
       "\n",
       "    .dataframe thead th {\n",
       "        text-align: right;\n",
       "    }\n",
       "</style>\n",
       "<table border=\"1\" class=\"dataframe\">\n",
       "  <thead>\n",
       "    <tr style=\"text-align: right;\">\n",
       "      <th></th>\n",
       "      <th>objectid</th>\n",
       "      <th>zip_code</th>\n",
       "      <th>total01_01_2022</th>\n",
       "      <th>total01_02_2022</th>\n",
       "      <th>total01_03_2022</th>\n",
       "      <th>total01_04_2022</th>\n",
       "      <th>total01_05_2022</th>\n",
       "      <th>total01_06_2022</th>\n",
       "      <th>total01_07_2022</th>\n",
       "      <th>total01_08_2022</th>\n",
       "      <th>total01_09_2022</th>\n",
       "      <th>total01_10_2022</th>\n",
       "    </tr>\n",
       "  </thead>\n",
       "  <tbody>\n",
       "    <tr>\n",
       "      <th>0</th>\n",
       "      <td>517</td>\n",
       "      <td>20010</td>\n",
       "      <td>NaN</td>\n",
       "      <td>NaN</td>\n",
       "      <td>NaN</td>\n",
       "      <td>NaN</td>\n",
       "      <td>NaN</td>\n",
       "      <td>NaN</td>\n",
       "      <td>NaN</td>\n",
       "      <td>NaN</td>\n",
       "      <td>NaN</td>\n",
       "      <td>NaN</td>\n",
       "    </tr>\n",
       "    <tr>\n",
       "      <th>1</th>\n",
       "      <td>518</td>\n",
       "      <td>20015</td>\n",
       "      <td>NaN</td>\n",
       "      <td>NaN</td>\n",
       "      <td>NaN</td>\n",
       "      <td>NaN</td>\n",
       "      <td>NaN</td>\n",
       "      <td>NaN</td>\n",
       "      <td>NaN</td>\n",
       "      <td>NaN</td>\n",
       "      <td>NaN</td>\n",
       "      <td>NaN</td>\n",
       "    </tr>\n",
       "    <tr>\n",
       "      <th>2</th>\n",
       "      <td>519</td>\n",
       "      <td>20037</td>\n",
       "      <td>NaN</td>\n",
       "      <td>NaN</td>\n",
       "      <td>NaN</td>\n",
       "      <td>NaN</td>\n",
       "      <td>NaN</td>\n",
       "      <td>NaN</td>\n",
       "      <td>NaN</td>\n",
       "      <td>NaN</td>\n",
       "      <td>NaN</td>\n",
       "      <td>NaN</td>\n",
       "    </tr>\n",
       "    <tr>\n",
       "      <th>3</th>\n",
       "      <td>520</td>\n",
       "      <td>20074</td>\n",
       "      <td>NaN</td>\n",
       "      <td>NaN</td>\n",
       "      <td>NaN</td>\n",
       "      <td>NaN</td>\n",
       "      <td>NaN</td>\n",
       "      <td>NaN</td>\n",
       "      <td>NaN</td>\n",
       "      <td>NaN</td>\n",
       "      <td>NaN</td>\n",
       "      <td>NaN</td>\n",
       "    </tr>\n",
       "    <tr>\n",
       "      <th>4</th>\n",
       "      <td>521</td>\n",
       "      <td>20161</td>\n",
       "      <td>NaN</td>\n",
       "      <td>NaN</td>\n",
       "      <td>NaN</td>\n",
       "      <td>NaN</td>\n",
       "      <td>NaN</td>\n",
       "      <td>NaN</td>\n",
       "      <td>NaN</td>\n",
       "      <td>NaN</td>\n",
       "      <td>NaN</td>\n",
       "      <td>NaN</td>\n",
       "    </tr>\n",
       "    <tr>\n",
       "      <th>5</th>\n",
       "      <td>522</td>\n",
       "      <td>20185</td>\n",
       "      <td>NaN</td>\n",
       "      <td>NaN</td>\n",
       "      <td>NaN</td>\n",
       "      <td>NaN</td>\n",
       "      <td>NaN</td>\n",
       "      <td>NaN</td>\n",
       "      <td>NaN</td>\n",
       "      <td>NaN</td>\n",
       "      <td>NaN</td>\n",
       "      <td>NaN</td>\n",
       "    </tr>\n",
       "    <tr>\n",
       "      <th>6</th>\n",
       "      <td>523</td>\n",
       "      <td>20437</td>\n",
       "      <td>NaN</td>\n",
       "      <td>NaN</td>\n",
       "      <td>NaN</td>\n",
       "      <td>NaN</td>\n",
       "      <td>NaN</td>\n",
       "      <td>NaN</td>\n",
       "      <td>NaN</td>\n",
       "      <td>NaN</td>\n",
       "      <td>NaN</td>\n",
       "      <td>NaN</td>\n",
       "    </tr>\n",
       "    <tr>\n",
       "      <th>7</th>\n",
       "      <td>525</td>\n",
       "      <td>20602</td>\n",
       "      <td>3755.0</td>\n",
       "      <td>3834.0</td>\n",
       "      <td>3941.0</td>\n",
       "      <td>4014.0</td>\n",
       "      <td>4055.0</td>\n",
       "      <td>4105.0</td>\n",
       "      <td>4140.0</td>\n",
       "      <td>4214.0</td>\n",
       "      <td>4292.0</td>\n",
       "      <td>4323.0</td>\n",
       "    </tr>\n",
       "    <tr>\n",
       "      <th>8</th>\n",
       "      <td>526</td>\n",
       "      <td>20603</td>\n",
       "      <td>3851.0</td>\n",
       "      <td>3946.0</td>\n",
       "      <td>4049.0</td>\n",
       "      <td>4127.0</td>\n",
       "      <td>4185.0</td>\n",
       "      <td>4277.0</td>\n",
       "      <td>4328.0</td>\n",
       "      <td>4441.0</td>\n",
       "      <td>4555.0</td>\n",
       "      <td>4609.0</td>\n",
       "    </tr>\n",
       "    <tr>\n",
       "      <th>9</th>\n",
       "      <td>527</td>\n",
       "      <td>20604</td>\n",
       "      <td>55.0</td>\n",
       "      <td>56.0</td>\n",
       "      <td>57.0</td>\n",
       "      <td>59.0</td>\n",
       "      <td>60.0</td>\n",
       "      <td>61.0</td>\n",
       "      <td>61.0</td>\n",
       "      <td>61.0</td>\n",
       "      <td>63.0</td>\n",
       "      <td>64.0</td>\n",
       "    </tr>\n",
       "  </tbody>\n",
       "</table>\n",
       "</div>"
      ],
      "text/plain": [
       "   objectid  zip_code  total01_01_2022  total01_02_2022  total01_03_2022  \\\n",
       "0       517     20010              NaN              NaN              NaN   \n",
       "1       518     20015              NaN              NaN              NaN   \n",
       "2       519     20037              NaN              NaN              NaN   \n",
       "3       520     20074              NaN              NaN              NaN   \n",
       "4       521     20161              NaN              NaN              NaN   \n",
       "5       522     20185              NaN              NaN              NaN   \n",
       "6       523     20437              NaN              NaN              NaN   \n",
       "7       525     20602           3755.0           3834.0           3941.0   \n",
       "8       526     20603           3851.0           3946.0           4049.0   \n",
       "9       527     20604             55.0             56.0             57.0   \n",
       "\n",
       "   total01_04_2022  total01_05_2022  total01_06_2022  total01_07_2022  \\\n",
       "0              NaN              NaN              NaN              NaN   \n",
       "1              NaN              NaN              NaN              NaN   \n",
       "2              NaN              NaN              NaN              NaN   \n",
       "3              NaN              NaN              NaN              NaN   \n",
       "4              NaN              NaN              NaN              NaN   \n",
       "5              NaN              NaN              NaN              NaN   \n",
       "6              NaN              NaN              NaN              NaN   \n",
       "7           4014.0           4055.0           4105.0           4140.0   \n",
       "8           4127.0           4185.0           4277.0           4328.0   \n",
       "9             59.0             60.0             61.0             61.0   \n",
       "\n",
       "   total01_08_2022  total01_09_2022  total01_10_2022  \n",
       "0              NaN              NaN              NaN  \n",
       "1              NaN              NaN              NaN  \n",
       "2              NaN              NaN              NaN  \n",
       "3              NaN              NaN              NaN  \n",
       "4              NaN              NaN              NaN  \n",
       "5              NaN              NaN              NaN  \n",
       "6              NaN              NaN              NaN  \n",
       "7           4214.0           4292.0           4323.0  \n",
       "8           4441.0           4555.0           4609.0  \n",
       "9             61.0             63.0             64.0  "
      ]
     },
     "execution_count": 37,
     "metadata": {},
     "output_type": "execute_result"
    }
   ],
   "source": [
    "# Test that data is stored properly\n",
    "pd.read_sql(\"SELECT * FROM covid.MDCovid LIMIT 10\", conn).head(10)"
   ]
  },
  {
   "cell_type": "markdown",
   "id": "3115d570-d870-4c7b-878b-edb6bb722cb4",
   "metadata": {
    "jp-MarkdownHeadingCollapsed": true,
    "tags": []
   },
   "source": [
    "#### Maryland Census Data Table"
   ]
  },
  {
   "cell_type": "code",
   "execution_count": 56,
   "id": "e5fb0044-2cb3-4a9b-b83f-c073eeeee9a2",
   "metadata": {
    "tags": []
   },
   "outputs": [
    {
     "name": "stdout",
     "output_type": "stream",
     "text": [
      "CREATE EXTERNAL TABLE IF NOT EXISTS covid.MDCensus(\n",
      "         OBJECTID_1 int,\n",
      "         ZCTA5CE10 int,\n",
      "         FIRST_STAT int,\n",
      "         FIRST_GEOI int,\n",
      "         FIRST_CLAS CHAR(2),\n",
      "         FIRST_MTFC string,\n",
      "         FIRST_FUNC CHAR(1),\n",
      "         ZCTA5N int,\n",
      "         STATE int,\n",
      "         AREALAND int,\n",
      "         AREAWATR int,\n",
      "         POP100 int,\n",
      "         HU100 int,\n",
      "         NHW int,\n",
      "         NHB int,\n",
      "         NHAI int,\n",
      "         NHA int,\n",
      "         NHNH int,\n",
      "         NHO int,\n",
      "         NHT int,\n",
      "         HISP int,\n",
      "         PNHW DECIMAL(3,1),\n",
      "         PNHB DECIMAL(3,1),\n",
      "         PNHAI DECIMAL(2,1),\n",
      "         PNHA DECIMAL(2,1),\n",
      "         PNHNH DECIMAL(2,1),\n",
      "         PNHO DECIMAL(2,1),\n",
      "         PNHT DECIMAL(2,1),\n",
      "         PHISP DECIMAL(2,1),\n",
      "         POP65_ int,\n",
      "         PCTPOP65_ DECIMAL(3,1),\n",
      "         MEDAGE DECIMAL(3,1)\n",
      ") ROW FORMAT DELIMITED FIELDS TERMINATED BY ',' LINES TERMINATED BY '\\n' LOCATION 's3://sagemaker-us-east-1-590183834230/ads508-team2-spring24/md_census_data/'\n",
      "TBLPROPERTIES ('skip.header.line.count'='1')\n"
     ]
    }
   ],
   "source": [
    "table_name = MDCensus_table\n",
    "path = \"s3://{}/ads508-team2-spring24/md_census_data/\".format(bucket)\n",
    "\n",
    "statement = \"\"\"CREATE EXTERNAL TABLE IF NOT EXISTS {}.{}(\n",
    "         OBJECTID_1 int,\n",
    "         ZCTA5CE10 int,\n",
    "         FIRST_STAT int,\n",
    "         FIRST_GEOI int,\n",
    "         FIRST_CLAS CHAR(2),\n",
    "         FIRST_MTFC string,\n",
    "         FIRST_FUNC CHAR(1),\n",
    "         ZCTA5N int,\n",
    "         STATE int,\n",
    "         AREALAND int,\n",
    "         AREAWATR int,\n",
    "         POP100 int,\n",
    "         HU100 int,\n",
    "         NHW int,\n",
    "         NHB int,\n",
    "         NHAI int,\n",
    "         NHA int,\n",
    "         NHNH int,\n",
    "         NHO int,\n",
    "         NHT int,\n",
    "         HISP int,\n",
    "         PNHW DECIMAL(3,1),\n",
    "         PNHB DECIMAL(3,1),\n",
    "         PNHAI DECIMAL(2,1),\n",
    "         PNHA DECIMAL(2,1),\n",
    "         PNHNH DECIMAL(2,1),\n",
    "         PNHO DECIMAL(2,1),\n",
    "         PNHT DECIMAL(2,1),\n",
    "         PHISP DECIMAL(2,1),\n",
    "         POP65_ int,\n",
    "         PCTPOP65_ DECIMAL(3,1),\n",
    "         MEDAGE DECIMAL(3,1)\n",
    ") ROW FORMAT DELIMITED FIELDS TERMINATED BY ',' LINES TERMINATED BY '\\\\n' LOCATION '{}'\n",
    "TBLPROPERTIES ('skip.header.line.count'='1')\"\"\".format(\n",
    "    database_name, table_name, path\n",
    ")\n",
    "\n",
    "print(statement)"
   ]
  },
  {
   "cell_type": "code",
   "execution_count": 57,
   "id": "0dd42fa7-339a-40ea-885a-c4d3506af924",
   "metadata": {
    "tags": []
   },
   "outputs": [
    {
     "data": {
      "text/html": [
       "<div>\n",
       "<style scoped>\n",
       "    .dataframe tbody tr th:only-of-type {\n",
       "        vertical-align: middle;\n",
       "    }\n",
       "\n",
       "    .dataframe tbody tr th {\n",
       "        vertical-align: top;\n",
       "    }\n",
       "\n",
       "    .dataframe thead th {\n",
       "        text-align: right;\n",
       "    }\n",
       "</style>\n",
       "<table border=\"1\" class=\"dataframe\">\n",
       "  <thead>\n",
       "    <tr style=\"text-align: right;\">\n",
       "      <th></th>\n",
       "    </tr>\n",
       "  </thead>\n",
       "  <tbody>\n",
       "  </tbody>\n",
       "</table>\n",
       "</div>"
      ],
      "text/plain": [
       "Empty DataFrame\n",
       "Columns: []\n",
       "Index: []"
      ]
     },
     "execution_count": 57,
     "metadata": {},
     "output_type": "execute_result"
    }
   ],
   "source": [
    "# Actually run query\n",
    "pd.read_sql(statement, conn)"
   ]
  },
  {
   "cell_type": "code",
   "execution_count": 58,
   "id": "1f75bd16-bdd0-4d9c-9a32-aa6e05c14a0e",
   "metadata": {
    "tags": []
   },
   "outputs": [
    {
     "data": {
      "text/html": [
       "<div>\n",
       "<style scoped>\n",
       "    .dataframe tbody tr th:only-of-type {\n",
       "        vertical-align: middle;\n",
       "    }\n",
       "\n",
       "    .dataframe tbody tr th {\n",
       "        vertical-align: top;\n",
       "    }\n",
       "\n",
       "    .dataframe thead th {\n",
       "        text-align: right;\n",
       "    }\n",
       "</style>\n",
       "<table border=\"1\" class=\"dataframe\">\n",
       "  <thead>\n",
       "    <tr style=\"text-align: right;\">\n",
       "      <th></th>\n",
       "      <th>objectid_1</th>\n",
       "      <th>zcta5ce10</th>\n",
       "      <th>first_stat</th>\n",
       "      <th>first_geoi</th>\n",
       "      <th>first_clas</th>\n",
       "      <th>first_mtfc</th>\n",
       "      <th>first_func</th>\n",
       "      <th>zcta5n</th>\n",
       "      <th>state</th>\n",
       "      <th>arealand</th>\n",
       "      <th>...</th>\n",
       "      <th>pnhb</th>\n",
       "      <th>pnhai</th>\n",
       "      <th>pnha</th>\n",
       "      <th>pnhnh</th>\n",
       "      <th>pnho</th>\n",
       "      <th>pnht</th>\n",
       "      <th>phisp</th>\n",
       "      <th>pop65_</th>\n",
       "      <th>pctpop65_</th>\n",
       "      <th>medage</th>\n",
       "    </tr>\n",
       "  </thead>\n",
       "  <tbody>\n",
       "    <tr>\n",
       "      <th>0</th>\n",
       "      <td>1</td>\n",
       "      <td>20601</td>\n",
       "      <td>24</td>\n",
       "      <td>2420601</td>\n",
       "      <td>B5</td>\n",
       "      <td>G6350</td>\n",
       "      <td>S</td>\n",
       "      <td>20601</td>\n",
       "      <td>24</td>\n",
       "      <td>115635266</td>\n",
       "      <td>...</td>\n",
       "      <td>46.1</td>\n",
       "      <td>0.6</td>\n",
       "      <td>3.6</td>\n",
       "      <td>0.0</td>\n",
       "      <td>0.2</td>\n",
       "      <td>3.5</td>\n",
       "      <td>5.3</td>\n",
       "      <td>1922</td>\n",
       "      <td>8.0</td>\n",
       "      <td>37.3</td>\n",
       "    </tr>\n",
       "    <tr>\n",
       "      <th>1</th>\n",
       "      <td>2</td>\n",
       "      <td>20602</td>\n",
       "      <td>24</td>\n",
       "      <td>2420602</td>\n",
       "      <td>B5</td>\n",
       "      <td>G6350</td>\n",
       "      <td>S</td>\n",
       "      <td>20602</td>\n",
       "      <td>24</td>\n",
       "      <td>35830723</td>\n",
       "      <td>...</td>\n",
       "      <td>52.3</td>\n",
       "      <td>0.5</td>\n",
       "      <td>2.9</td>\n",
       "      <td>0.1</td>\n",
       "      <td>0.2</td>\n",
       "      <td>4.0</td>\n",
       "      <td>6.1</td>\n",
       "      <td>1964</td>\n",
       "      <td>7.9</td>\n",
       "      <td>32.6</td>\n",
       "    </tr>\n",
       "    <tr>\n",
       "      <th>2</th>\n",
       "      <td>3</td>\n",
       "      <td>20603</td>\n",
       "      <td>24</td>\n",
       "      <td>2420603</td>\n",
       "      <td>B5</td>\n",
       "      <td>G6350</td>\n",
       "      <td>S</td>\n",
       "      <td>20603</td>\n",
       "      <td>24</td>\n",
       "      <td>44239637</td>\n",
       "      <td>...</td>\n",
       "      <td>51.9</td>\n",
       "      <td>0.3</td>\n",
       "      <td>5.0</td>\n",
       "      <td>0.1</td>\n",
       "      <td>0.2</td>\n",
       "      <td>3.8</td>\n",
       "      <td>5.5</td>\n",
       "      <td>1400</td>\n",
       "      <td>4.8</td>\n",
       "      <td>34.5</td>\n",
       "    </tr>\n",
       "    <tr>\n",
       "      <th>3</th>\n",
       "      <td>4</td>\n",
       "      <td>20606</td>\n",
       "      <td>24</td>\n",
       "      <td>2420606</td>\n",
       "      <td>B5</td>\n",
       "      <td>G6350</td>\n",
       "      <td>S</td>\n",
       "      <td>20606</td>\n",
       "      <td>24</td>\n",
       "      <td>7501011</td>\n",
       "      <td>...</td>\n",
       "      <td>10.4</td>\n",
       "      <td>0.2</td>\n",
       "      <td>0.9</td>\n",
       "      <td>0.0</td>\n",
       "      <td>0.0</td>\n",
       "      <td>0.0</td>\n",
       "      <td>0.9</td>\n",
       "      <td>108</td>\n",
       "      <td>25.1</td>\n",
       "      <td>49.1</td>\n",
       "    </tr>\n",
       "    <tr>\n",
       "      <th>4</th>\n",
       "      <td>5</td>\n",
       "      <td>20607</td>\n",
       "      <td>24</td>\n",
       "      <td>2420607</td>\n",
       "      <td>B5</td>\n",
       "      <td>G6350</td>\n",
       "      <td>S</td>\n",
       "      <td>20607</td>\n",
       "      <td>24</td>\n",
       "      <td>54357590</td>\n",
       "      <td>...</td>\n",
       "      <td>64.5</td>\n",
       "      <td>0.3</td>\n",
       "      <td>5.7</td>\n",
       "      <td>0.0</td>\n",
       "      <td>0.1</td>\n",
       "      <td>2.4</td>\n",
       "      <td>4.9</td>\n",
       "      <td>847</td>\n",
       "      <td>8.6</td>\n",
       "      <td>40.9</td>\n",
       "    </tr>\n",
       "  </tbody>\n",
       "</table>\n",
       "<p>5 rows × 32 columns</p>\n",
       "</div>"
      ],
      "text/plain": [
       "   objectid_1  zcta5ce10  first_stat  first_geoi first_clas first_mtfc  \\\n",
       "0           1      20601          24     2420601         B5      G6350   \n",
       "1           2      20602          24     2420602         B5      G6350   \n",
       "2           3      20603          24     2420603         B5      G6350   \n",
       "3           4      20606          24     2420606         B5      G6350   \n",
       "4           5      20607          24     2420607         B5      G6350   \n",
       "\n",
       "  first_func  zcta5n  state   arealand  ...  pnhb  pnhai  pnha  pnhnh  pnho  \\\n",
       "0          S   20601     24  115635266  ...  46.1    0.6   3.6    0.0   0.2   \n",
       "1          S   20602     24   35830723  ...  52.3    0.5   2.9    0.1   0.2   \n",
       "2          S   20603     24   44239637  ...  51.9    0.3   5.0    0.1   0.2   \n",
       "3          S   20606     24    7501011  ...  10.4    0.2   0.9    0.0   0.0   \n",
       "4          S   20607     24   54357590  ...  64.5    0.3   5.7    0.0   0.1   \n",
       "\n",
       "   pnht  phisp  pop65_  pctpop65_  medage  \n",
       "0   3.5    5.3    1922        8.0    37.3  \n",
       "1   4.0    6.1    1964        7.9    32.6  \n",
       "2   3.8    5.5    1400        4.8    34.5  \n",
       "3   0.0    0.9     108       25.1    49.1  \n",
       "4   2.4    4.9     847        8.6    40.9  \n",
       "\n",
       "[5 rows x 32 columns]"
      ]
     },
     "execution_count": 58,
     "metadata": {},
     "output_type": "execute_result"
    }
   ],
   "source": [
    "# Take a look at table to test \n",
    "df_show = pd.read_sql(\"SELECT * FROM covid.MDCensus LIMIT 5\", conn)\n",
    "df_show.head()"
   ]
  },
  {
   "cell_type": "markdown",
   "id": "a085f3b2-9c5c-441a-90b8-819c45333a92",
   "metadata": {
    "tags": []
   },
   "source": [
    "#### ZTCA to Zip Code Crosswalk Table"
   ]
  },
  {
   "cell_type": "code",
   "execution_count": 62,
   "id": "5517a6c9-a5d9-4c7c-8be9-9db43b148cbd",
   "metadata": {
    "tags": []
   },
   "outputs": [
    {
     "name": "stdout",
     "output_type": "stream",
     "text": [
      "CREATE EXTERNAL TABLE IF NOT EXISTS covid.MDCrosswalk(\n",
      "         ZIP_CODE int,\n",
      "         PO_NAME string,\n",
      "         STATE CHAR(2),\n",
      "         ZIP_TYPE string,\n",
      "         zcta int,\n",
      "         zip_join_type string\n",
      ")ROW FORMAT DELIMITED FIELDS TERMINATED BY ',' LINES TERMINATED BY '\\n' LOCATION 's3://sagemaker-us-east-1-590183834230/ads508-team2-spring24/crosswalk_data/'\n",
      "TBLPROPERTIES ('skip.header.line.count'='1')\n"
     ]
    }
   ],
   "source": [
    "table_name = MDCrosswalk_table\n",
    "path = \"s3://{}/ads508-team2-spring24/crosswalk_data/\".format(bucket)\n",
    "\n",
    "#TO DO: Figure out how to handle total{date} columns for schema. Columnar?\n",
    "statement = \"\"\"CREATE EXTERNAL TABLE IF NOT EXISTS {}.{}(\n",
    "         ZIP_CODE int,\n",
    "         PO_NAME string,\n",
    "         STATE CHAR(2),\n",
    "         ZIP_TYPE string,\n",
    "         zcta int,\n",
    "         zip_join_type string\n",
    ")ROW FORMAT DELIMITED FIELDS TERMINATED BY ',' LINES TERMINATED BY '\\\\n' LOCATION '{}'\n",
    "TBLPROPERTIES ('skip.header.line.count'='1')\"\"\".format(\n",
    "    database_name, table_name, path\n",
    ")\n",
    "\n",
    "print(statement)"
   ]
  },
  {
   "cell_type": "code",
   "execution_count": 63,
   "id": "204bdb1d-6be3-470f-880d-23997669042b",
   "metadata": {
    "tags": []
   },
   "outputs": [
    {
     "data": {
      "text/html": [
       "<div>\n",
       "<style scoped>\n",
       "    .dataframe tbody tr th:only-of-type {\n",
       "        vertical-align: middle;\n",
       "    }\n",
       "\n",
       "    .dataframe tbody tr th {\n",
       "        vertical-align: top;\n",
       "    }\n",
       "\n",
       "    .dataframe thead th {\n",
       "        text-align: right;\n",
       "    }\n",
       "</style>\n",
       "<table border=\"1\" class=\"dataframe\">\n",
       "  <thead>\n",
       "    <tr style=\"text-align: right;\">\n",
       "      <th></th>\n",
       "      <th>zip_code</th>\n",
       "      <th>po_name</th>\n",
       "      <th>state</th>\n",
       "      <th>zip_type</th>\n",
       "      <th>zcta</th>\n",
       "      <th>zip_join_type</th>\n",
       "    </tr>\n",
       "  </thead>\n",
       "  <tbody>\n",
       "    <tr>\n",
       "      <th>0</th>\n",
       "      <td>501</td>\n",
       "      <td>Holtsville</td>\n",
       "      <td>NY</td>\n",
       "      <td>Post Office or large volume customer</td>\n",
       "      <td>11742</td>\n",
       "      <td>Spatial join to ZCTA</td>\n",
       "    </tr>\n",
       "    <tr>\n",
       "      <th>1</th>\n",
       "      <td>544</td>\n",
       "      <td>Holtsville</td>\n",
       "      <td>NY</td>\n",
       "      <td>Post Office or large volume customer</td>\n",
       "      <td>11742</td>\n",
       "      <td>Spatial join to ZCTA</td>\n",
       "    </tr>\n",
       "    <tr>\n",
       "      <th>2</th>\n",
       "      <td>601</td>\n",
       "      <td>Adjuntas</td>\n",
       "      <td>PR</td>\n",
       "      <td>Zip Code Area</td>\n",
       "      <td>601</td>\n",
       "      <td>Zip matches ZCTA</td>\n",
       "    </tr>\n",
       "    <tr>\n",
       "      <th>3</th>\n",
       "      <td>602</td>\n",
       "      <td>Aguada</td>\n",
       "      <td>PR</td>\n",
       "      <td>Zip Code Area</td>\n",
       "      <td>602</td>\n",
       "      <td>Zip matches ZCTA</td>\n",
       "    </tr>\n",
       "    <tr>\n",
       "      <th>4</th>\n",
       "      <td>603</td>\n",
       "      <td>Aguadilla</td>\n",
       "      <td>PR</td>\n",
       "      <td>Zip Code Area</td>\n",
       "      <td>603</td>\n",
       "      <td>Zip matches ZCTA</td>\n",
       "    </tr>\n",
       "  </tbody>\n",
       "</table>\n",
       "</div>"
      ],
      "text/plain": [
       "   zip_code     po_name state                              zip_type   zcta  \\\n",
       "0       501  Holtsville    NY  Post Office or large volume customer  11742   \n",
       "1       544  Holtsville    NY  Post Office or large volume customer  11742   \n",
       "2       601    Adjuntas    PR                         Zip Code Area    601   \n",
       "3       602      Aguada    PR                         Zip Code Area    602   \n",
       "4       603   Aguadilla    PR                         Zip Code Area    603   \n",
       "\n",
       "          zip_join_type  \n",
       "0  Spatial join to ZCTA  \n",
       "1  Spatial join to ZCTA  \n",
       "2      Zip matches ZCTA  \n",
       "3      Zip matches ZCTA  \n",
       "4      Zip matches ZCTA  "
      ]
     },
     "execution_count": 63,
     "metadata": {},
     "output_type": "execute_result"
    }
   ],
   "source": [
    "# Actually run query\n",
    "pd.read_sql(statement, conn)\n",
    "\n",
    "# Take a look at table to test \n",
    "df_show = pd.read_sql(\"SELECT * FROM covid.MDCrosswalk LIMIT 5\", conn)\n",
    "df_show.head()"
   ]
  },
  {
   "cell_type": "markdown",
   "id": "86e111e4-f082-4a6a-8d27-5147f83f404b",
   "metadata": {},
   "source": [
    "### Tables that have Meaningful Partitions, Thus should be Parquets"
   ]
  },
  {
   "cell_type": "markdown",
   "id": "2689f811-553a-44fb-b9a1-356d33c79718",
   "metadata": {
    "jp-MarkdownHeadingCollapsed": true,
    "tags": []
   },
   "source": [
    "### Social Determinants of Health Database Table"
   ]
  },
  {
   "cell_type": "code",
   "execution_count": 10,
   "id": "4a6bf862-b08a-40ae-88a1-4691f590630d",
   "metadata": {},
   "outputs": [
    {
     "name": "stdout",
     "output_type": "stream",
     "text": [
      "CREATE EXTERNAL TABLE IF NOT EXISTS covid.SDOH(\n",
      "         OBJECTID int,\n",
      "         ZIP_CODE int,\n",
      ")\n"
     ]
    }
   ],
   "source": [
    "table_name = SDOH_table\n",
    "path = SDOH_path\n",
    "\n",
    "#TO DO: Figure out how to handle the 327 columns. S3?\n",
    "statement = \"\"\"CREATE EXTERNAL TABLE IF NOT EXISTS {}.{}(\n",
    "         OBJECTID int,\n",
    "         ZIP_CODE int,\n",
    ")\"\"\".format(\n",
    "    database_name, table_name, path\n",
    ")\n",
    "\n",
    "print(statement)"
   ]
  },
  {
   "cell_type": "markdown",
   "id": "e98da1ae-e568-4ad5-b687-684f1dda7b54",
   "metadata": {
    "jp-MarkdownHeadingCollapsed": true,
    "tags": []
   },
   "source": [
    "### PLACES: Local Data for Better Health Table"
   ]
  },
  {
   "cell_type": "code",
   "execution_count": 11,
   "id": "05bb2b21-3717-4220-b47b-75831b6d952c",
   "metadata": {},
   "outputs": [
    {
     "name": "stdout",
     "output_type": "stream",
     "text": [
      "CREATE EXTERNAL TABLE IF NOT EXISTS covid.CDC(\n",
      "         YEAR YEAR,\n",
      "         LocationName int,\n",
      "         DataSource string,\n",
      "         Category string,\n",
      "         Measure string,\n",
      "         Data_Value_Unit string,\n",
      "         Data_Value_Type string,\n",
      "         Data_Value DECIMAL(3,1),\n",
      "         Data_Value_Footnote_Symbol string,\n",
      "         Data_Value_Footnote string,\n",
      "         Low_Confidence_Limit DECIMAL(3,1),\n",
      "         High_Confidence_Limit DECIMAL(3,1),\n",
      "         TotalPopulation int,\n",
      "         Geolocation string,\n",
      "         LocationID int,\n",
      "         CategoryID string,\n",
      "         MeasureId string,\n",
      "         DataValueTypeID string,\n",
      "         Short_Question_Text string\n",
      ") ROW FORMAT DELIMITED FIELDS TERMINATED BY ',' LINES TERMINATED BY '\\n' LOCATION 's3://ads508-team2-spring24/03_PLACES__Local_Data_for_Better_Health__ZCTA_Data_2023_release.csv'\n",
      "TBLPROPERTIES ('skip.header.line.count'='1')\n"
     ]
    }
   ],
   "source": [
    "table_name = CDC_table\n",
    "path = CDC_path\n",
    "\n",
    "#TO DO: Figure out how to handle total{date} columns for schema. Columnar?\n",
    "statement = \"\"\"CREATE EXTERNAL TABLE IF NOT EXISTS {}.{}(\n",
    "         YEAR YEAR,\n",
    "         LocationName int,\n",
    "         DataSource string,\n",
    "         Category string,\n",
    "         Measure string,\n",
    "         Data_Value_Unit string,\n",
    "         Data_Value_Type string,\n",
    "         Data_Value DECIMAL(3,1),\n",
    "         Data_Value_Footnote_Symbol string,\n",
    "         Data_Value_Footnote string,\n",
    "         Low_Confidence_Limit DECIMAL(3,1),\n",
    "         High_Confidence_Limit DECIMAL(3,1),\n",
    "         TotalPopulation int,\n",
    "         Geolocation string,\n",
    "         LocationID int,\n",
    "         CategoryID string,\n",
    "         MeasureId string,\n",
    "         DataValueTypeID string,\n",
    "         Short_Question_Text string\n",
    ") ROW FORMAT DELIMITED FIELDS TERMINATED BY ',' LINES TERMINATED BY '\\\\n' LOCATION '{}'\n",
    "TBLPROPERTIES ('skip.header.line.count'='1')\"\"\".format(\n",
    "    database_name, table_name, path\n",
    ")\n",
    "\n",
    "print(statement)"
   ]
  },
  {
   "cell_type": "markdown",
   "id": "b3a00680-4744-4e86-bc5f-b0a3fc95a7fb",
   "metadata": {},
   "source": [
    "### Check all tables are in Covid database"
   ]
  },
  {
   "cell_type": "code",
   "execution_count": 6,
   "id": "055cb231-31c5-478b-b388-086c775158ac",
   "metadata": {
    "tags": []
   },
   "outputs": [
    {
     "data": {
      "text/html": [
       "<div>\n",
       "<style scoped>\n",
       "    .dataframe tbody tr th:only-of-type {\n",
       "        vertical-align: middle;\n",
       "    }\n",
       "\n",
       "    .dataframe tbody tr th {\n",
       "        vertical-align: top;\n",
       "    }\n",
       "\n",
       "    .dataframe thead th {\n",
       "        text-align: right;\n",
       "    }\n",
       "</style>\n",
       "<table border=\"1\" class=\"dataframe\">\n",
       "  <thead>\n",
       "    <tr style=\"text-align: right;\">\n",
       "      <th></th>\n",
       "      <th>tab_name</th>\n",
       "    </tr>\n",
       "  </thead>\n",
       "  <tbody>\n",
       "    <tr>\n",
       "      <th>0</th>\n",
       "      <td>mdcensus</td>\n",
       "    </tr>\n",
       "    <tr>\n",
       "      <th>1</th>\n",
       "      <td>mdcovid</td>\n",
       "    </tr>\n",
       "  </tbody>\n",
       "</table>\n",
       "</div>"
      ],
      "text/plain": [
       "   tab_name\n",
       "0  mdcensus\n",
       "1   mdcovid"
      ]
     },
     "execution_count": 6,
     "metadata": {},
     "output_type": "execute_result"
    }
   ],
   "source": [
    "statement = \"SHOW TABLES FROM covid\"\n",
    "\n",
    "df_show = pd.read_sql(statement, conn)\n",
    "df_show.head(5)"
   ]
  },
  {
   "cell_type": "markdown",
   "id": "e18ee098-0ec0-4ac3-9a6e-d8b6aa0703c2",
   "metadata": {},
   "source": [
    "## Release Resources: Direct copy from\n",
    "\n",
    "Coyne, S. (2024, February 27). Update 01_Copy_TSV_To_S3.ipynb [Jupyter Notebook]. GitHub. https://github.com/MADS508/labs/blob/main/04_ingest/01_Copy_TSV_To_S3.ipynb"
   ]
  },
  {
   "cell_type": "code",
   "execution_count": 14,
   "id": "bee0c5d3-8750-4966-a19b-4b6643375abf",
   "metadata": {},
   "outputs": [
    {
     "data": {
      "text/html": [
       "\n",
       "<p><b>Shutting down your kernel for this notebook to release resources.</b></p>\n",
       "<button class=\"sm-command-button\" data-commandlinker-command=\"kernelmenu:shutdown\" style=\"display:none;\">Shutdown Kernel</button>\n",
       "        \n",
       "<script>\n",
       "try {\n",
       "    els = document.getElementsByClassName(\"sm-command-button\");\n",
       "    els[0].click();\n",
       "}\n",
       "catch(err) {\n",
       "    // NoOp\n",
       "}    \n",
       "</script>\n"
      ],
      "text/plain": [
       "<IPython.core.display.HTML object>"
      ]
     },
     "metadata": {},
     "output_type": "display_data"
    }
   ],
   "source": [
    "%%html\n",
    "\n",
    "<p><b>Shutting down your kernel for this notebook to release resources.</b></p>\n",
    "<button class=\"sm-command-button\" data-commandlinker-command=\"kernelmenu:shutdown\" style=\"display:none;\">Shutdown Kernel</button>\n",
    "        \n",
    "<script>\n",
    "try {\n",
    "    els = document.getElementsByClassName(\"sm-command-button\");\n",
    "    els[0].click();\n",
    "}\n",
    "catch(err) {\n",
    "    // NoOp\n",
    "}    \n",
    "</script>"
   ]
  },
  {
   "cell_type": "code",
   "execution_count": 15,
   "id": "3985bb5e-de18-407b-80d3-79304ab302e0",
   "metadata": {},
   "outputs": [
    {
     "data": {
      "application/javascript": [
       "\n",
       "try {\n",
       "    Jupyter.notebook.save_checkpoint();\n",
       "    Jupyter.notebook.session.delete();\n",
       "}\n",
       "catch(err) {\n",
       "    // NoOp\n",
       "}\n"
      ],
      "text/plain": [
       "<IPython.core.display.Javascript object>"
      ]
     },
     "metadata": {},
     "output_type": "display_data"
    }
   ],
   "source": [
    "%%javascript\n",
    "\n",
    "try {\n",
    "    Jupyter.notebook.save_checkpoint();\n",
    "    Jupyter.notebook.session.delete();\n",
    "}\n",
    "catch(err) {\n",
    "    // NoOp\n",
    "}"
   ]
  }
 ],
 "metadata": {
  "availableInstances": [
   {
    "_defaultOrder": 0,
    "_isFastLaunch": true,
    "category": "General purpose",
    "gpuNum": 0,
    "hideHardwareSpecs": false,
    "memoryGiB": 4,
    "name": "ml.t3.medium",
    "vcpuNum": 2
   },
   {
    "_defaultOrder": 1,
    "_isFastLaunch": false,
    "category": "General purpose",
    "gpuNum": 0,
    "hideHardwareSpecs": false,
    "memoryGiB": 8,
    "name": "ml.t3.large",
    "vcpuNum": 2
   },
   {
    "_defaultOrder": 2,
    "_isFastLaunch": false,
    "category": "General purpose",
    "gpuNum": 0,
    "hideHardwareSpecs": false,
    "memoryGiB": 16,
    "name": "ml.t3.xlarge",
    "vcpuNum": 4
   },
   {
    "_defaultOrder": 3,
    "_isFastLaunch": false,
    "category": "General purpose",
    "gpuNum": 0,
    "hideHardwareSpecs": false,
    "memoryGiB": 32,
    "name": "ml.t3.2xlarge",
    "vcpuNum": 8
   },
   {
    "_defaultOrder": 4,
    "_isFastLaunch": true,
    "category": "General purpose",
    "gpuNum": 0,
    "hideHardwareSpecs": false,
    "memoryGiB": 8,
    "name": "ml.m5.large",
    "vcpuNum": 2
   },
   {
    "_defaultOrder": 5,
    "_isFastLaunch": false,
    "category": "General purpose",
    "gpuNum": 0,
    "hideHardwareSpecs": false,
    "memoryGiB": 16,
    "name": "ml.m5.xlarge",
    "vcpuNum": 4
   },
   {
    "_defaultOrder": 6,
    "_isFastLaunch": false,
    "category": "General purpose",
    "gpuNum": 0,
    "hideHardwareSpecs": false,
    "memoryGiB": 32,
    "name": "ml.m5.2xlarge",
    "vcpuNum": 8
   },
   {
    "_defaultOrder": 7,
    "_isFastLaunch": false,
    "category": "General purpose",
    "gpuNum": 0,
    "hideHardwareSpecs": false,
    "memoryGiB": 64,
    "name": "ml.m5.4xlarge",
    "vcpuNum": 16
   },
   {
    "_defaultOrder": 8,
    "_isFastLaunch": false,
    "category": "General purpose",
    "gpuNum": 0,
    "hideHardwareSpecs": false,
    "memoryGiB": 128,
    "name": "ml.m5.8xlarge",
    "vcpuNum": 32
   },
   {
    "_defaultOrder": 9,
    "_isFastLaunch": false,
    "category": "General purpose",
    "gpuNum": 0,
    "hideHardwareSpecs": false,
    "memoryGiB": 192,
    "name": "ml.m5.12xlarge",
    "vcpuNum": 48
   },
   {
    "_defaultOrder": 10,
    "_isFastLaunch": false,
    "category": "General purpose",
    "gpuNum": 0,
    "hideHardwareSpecs": false,
    "memoryGiB": 256,
    "name": "ml.m5.16xlarge",
    "vcpuNum": 64
   },
   {
    "_defaultOrder": 11,
    "_isFastLaunch": false,
    "category": "General purpose",
    "gpuNum": 0,
    "hideHardwareSpecs": false,
    "memoryGiB": 384,
    "name": "ml.m5.24xlarge",
    "vcpuNum": 96
   },
   {
    "_defaultOrder": 12,
    "_isFastLaunch": false,
    "category": "General purpose",
    "gpuNum": 0,
    "hideHardwareSpecs": false,
    "memoryGiB": 8,
    "name": "ml.m5d.large",
    "vcpuNum": 2
   },
   {
    "_defaultOrder": 13,
    "_isFastLaunch": false,
    "category": "General purpose",
    "gpuNum": 0,
    "hideHardwareSpecs": false,
    "memoryGiB": 16,
    "name": "ml.m5d.xlarge",
    "vcpuNum": 4
   },
   {
    "_defaultOrder": 14,
    "_isFastLaunch": false,
    "category": "General purpose",
    "gpuNum": 0,
    "hideHardwareSpecs": false,
    "memoryGiB": 32,
    "name": "ml.m5d.2xlarge",
    "vcpuNum": 8
   },
   {
    "_defaultOrder": 15,
    "_isFastLaunch": false,
    "category": "General purpose",
    "gpuNum": 0,
    "hideHardwareSpecs": false,
    "memoryGiB": 64,
    "name": "ml.m5d.4xlarge",
    "vcpuNum": 16
   },
   {
    "_defaultOrder": 16,
    "_isFastLaunch": false,
    "category": "General purpose",
    "gpuNum": 0,
    "hideHardwareSpecs": false,
    "memoryGiB": 128,
    "name": "ml.m5d.8xlarge",
    "vcpuNum": 32
   },
   {
    "_defaultOrder": 17,
    "_isFastLaunch": false,
    "category": "General purpose",
    "gpuNum": 0,
    "hideHardwareSpecs": false,
    "memoryGiB": 192,
    "name": "ml.m5d.12xlarge",
    "vcpuNum": 48
   },
   {
    "_defaultOrder": 18,
    "_isFastLaunch": false,
    "category": "General purpose",
    "gpuNum": 0,
    "hideHardwareSpecs": false,
    "memoryGiB": 256,
    "name": "ml.m5d.16xlarge",
    "vcpuNum": 64
   },
   {
    "_defaultOrder": 19,
    "_isFastLaunch": false,
    "category": "General purpose",
    "gpuNum": 0,
    "hideHardwareSpecs": false,
    "memoryGiB": 384,
    "name": "ml.m5d.24xlarge",
    "vcpuNum": 96
   },
   {
    "_defaultOrder": 20,
    "_isFastLaunch": false,
    "category": "General purpose",
    "gpuNum": 0,
    "hideHardwareSpecs": true,
    "memoryGiB": 0,
    "name": "ml.geospatial.interactive",
    "supportedImageNames": [
     "sagemaker-geospatial-v1-0"
    ],
    "vcpuNum": 0
   },
   {
    "_defaultOrder": 21,
    "_isFastLaunch": true,
    "category": "Compute optimized",
    "gpuNum": 0,
    "hideHardwareSpecs": false,
    "memoryGiB": 4,
    "name": "ml.c5.large",
    "vcpuNum": 2
   },
   {
    "_defaultOrder": 22,
    "_isFastLaunch": false,
    "category": "Compute optimized",
    "gpuNum": 0,
    "hideHardwareSpecs": false,
    "memoryGiB": 8,
    "name": "ml.c5.xlarge",
    "vcpuNum": 4
   },
   {
    "_defaultOrder": 23,
    "_isFastLaunch": false,
    "category": "Compute optimized",
    "gpuNum": 0,
    "hideHardwareSpecs": false,
    "memoryGiB": 16,
    "name": "ml.c5.2xlarge",
    "vcpuNum": 8
   },
   {
    "_defaultOrder": 24,
    "_isFastLaunch": false,
    "category": "Compute optimized",
    "gpuNum": 0,
    "hideHardwareSpecs": false,
    "memoryGiB": 32,
    "name": "ml.c5.4xlarge",
    "vcpuNum": 16
   },
   {
    "_defaultOrder": 25,
    "_isFastLaunch": false,
    "category": "Compute optimized",
    "gpuNum": 0,
    "hideHardwareSpecs": false,
    "memoryGiB": 72,
    "name": "ml.c5.9xlarge",
    "vcpuNum": 36
   },
   {
    "_defaultOrder": 26,
    "_isFastLaunch": false,
    "category": "Compute optimized",
    "gpuNum": 0,
    "hideHardwareSpecs": false,
    "memoryGiB": 96,
    "name": "ml.c5.12xlarge",
    "vcpuNum": 48
   },
   {
    "_defaultOrder": 27,
    "_isFastLaunch": false,
    "category": "Compute optimized",
    "gpuNum": 0,
    "hideHardwareSpecs": false,
    "memoryGiB": 144,
    "name": "ml.c5.18xlarge",
    "vcpuNum": 72
   },
   {
    "_defaultOrder": 28,
    "_isFastLaunch": false,
    "category": "Compute optimized",
    "gpuNum": 0,
    "hideHardwareSpecs": false,
    "memoryGiB": 192,
    "name": "ml.c5.24xlarge",
    "vcpuNum": 96
   },
   {
    "_defaultOrder": 29,
    "_isFastLaunch": true,
    "category": "Accelerated computing",
    "gpuNum": 1,
    "hideHardwareSpecs": false,
    "memoryGiB": 16,
    "name": "ml.g4dn.xlarge",
    "vcpuNum": 4
   },
   {
    "_defaultOrder": 30,
    "_isFastLaunch": false,
    "category": "Accelerated computing",
    "gpuNum": 1,
    "hideHardwareSpecs": false,
    "memoryGiB": 32,
    "name": "ml.g4dn.2xlarge",
    "vcpuNum": 8
   },
   {
    "_defaultOrder": 31,
    "_isFastLaunch": false,
    "category": "Accelerated computing",
    "gpuNum": 1,
    "hideHardwareSpecs": false,
    "memoryGiB": 64,
    "name": "ml.g4dn.4xlarge",
    "vcpuNum": 16
   },
   {
    "_defaultOrder": 32,
    "_isFastLaunch": false,
    "category": "Accelerated computing",
    "gpuNum": 1,
    "hideHardwareSpecs": false,
    "memoryGiB": 128,
    "name": "ml.g4dn.8xlarge",
    "vcpuNum": 32
   },
   {
    "_defaultOrder": 33,
    "_isFastLaunch": false,
    "category": "Accelerated computing",
    "gpuNum": 4,
    "hideHardwareSpecs": false,
    "memoryGiB": 192,
    "name": "ml.g4dn.12xlarge",
    "vcpuNum": 48
   },
   {
    "_defaultOrder": 34,
    "_isFastLaunch": false,
    "category": "Accelerated computing",
    "gpuNum": 1,
    "hideHardwareSpecs": false,
    "memoryGiB": 256,
    "name": "ml.g4dn.16xlarge",
    "vcpuNum": 64
   },
   {
    "_defaultOrder": 35,
    "_isFastLaunch": false,
    "category": "Accelerated computing",
    "gpuNum": 1,
    "hideHardwareSpecs": false,
    "memoryGiB": 61,
    "name": "ml.p3.2xlarge",
    "vcpuNum": 8
   },
   {
    "_defaultOrder": 36,
    "_isFastLaunch": false,
    "category": "Accelerated computing",
    "gpuNum": 4,
    "hideHardwareSpecs": false,
    "memoryGiB": 244,
    "name": "ml.p3.8xlarge",
    "vcpuNum": 32
   },
   {
    "_defaultOrder": 37,
    "_isFastLaunch": false,
    "category": "Accelerated computing",
    "gpuNum": 8,
    "hideHardwareSpecs": false,
    "memoryGiB": 488,
    "name": "ml.p3.16xlarge",
    "vcpuNum": 64
   },
   {
    "_defaultOrder": 38,
    "_isFastLaunch": false,
    "category": "Accelerated computing",
    "gpuNum": 8,
    "hideHardwareSpecs": false,
    "memoryGiB": 768,
    "name": "ml.p3dn.24xlarge",
    "vcpuNum": 96
   },
   {
    "_defaultOrder": 39,
    "_isFastLaunch": false,
    "category": "Memory Optimized",
    "gpuNum": 0,
    "hideHardwareSpecs": false,
    "memoryGiB": 16,
    "name": "ml.r5.large",
    "vcpuNum": 2
   },
   {
    "_defaultOrder": 40,
    "_isFastLaunch": false,
    "category": "Memory Optimized",
    "gpuNum": 0,
    "hideHardwareSpecs": false,
    "memoryGiB": 32,
    "name": "ml.r5.xlarge",
    "vcpuNum": 4
   },
   {
    "_defaultOrder": 41,
    "_isFastLaunch": false,
    "category": "Memory Optimized",
    "gpuNum": 0,
    "hideHardwareSpecs": false,
    "memoryGiB": 64,
    "name": "ml.r5.2xlarge",
    "vcpuNum": 8
   },
   {
    "_defaultOrder": 42,
    "_isFastLaunch": false,
    "category": "Memory Optimized",
    "gpuNum": 0,
    "hideHardwareSpecs": false,
    "memoryGiB": 128,
    "name": "ml.r5.4xlarge",
    "vcpuNum": 16
   },
   {
    "_defaultOrder": 43,
    "_isFastLaunch": false,
    "category": "Memory Optimized",
    "gpuNum": 0,
    "hideHardwareSpecs": false,
    "memoryGiB": 256,
    "name": "ml.r5.8xlarge",
    "vcpuNum": 32
   },
   {
    "_defaultOrder": 44,
    "_isFastLaunch": false,
    "category": "Memory Optimized",
    "gpuNum": 0,
    "hideHardwareSpecs": false,
    "memoryGiB": 384,
    "name": "ml.r5.12xlarge",
    "vcpuNum": 48
   },
   {
    "_defaultOrder": 45,
    "_isFastLaunch": false,
    "category": "Memory Optimized",
    "gpuNum": 0,
    "hideHardwareSpecs": false,
    "memoryGiB": 512,
    "name": "ml.r5.16xlarge",
    "vcpuNum": 64
   },
   {
    "_defaultOrder": 46,
    "_isFastLaunch": false,
    "category": "Memory Optimized",
    "gpuNum": 0,
    "hideHardwareSpecs": false,
    "memoryGiB": 768,
    "name": "ml.r5.24xlarge",
    "vcpuNum": 96
   },
   {
    "_defaultOrder": 47,
    "_isFastLaunch": false,
    "category": "Accelerated computing",
    "gpuNum": 1,
    "hideHardwareSpecs": false,
    "memoryGiB": 16,
    "name": "ml.g5.xlarge",
    "vcpuNum": 4
   },
   {
    "_defaultOrder": 48,
    "_isFastLaunch": false,
    "category": "Accelerated computing",
    "gpuNum": 1,
    "hideHardwareSpecs": false,
    "memoryGiB": 32,
    "name": "ml.g5.2xlarge",
    "vcpuNum": 8
   },
   {
    "_defaultOrder": 49,
    "_isFastLaunch": false,
    "category": "Accelerated computing",
    "gpuNum": 1,
    "hideHardwareSpecs": false,
    "memoryGiB": 64,
    "name": "ml.g5.4xlarge",
    "vcpuNum": 16
   },
   {
    "_defaultOrder": 50,
    "_isFastLaunch": false,
    "category": "Accelerated computing",
    "gpuNum": 1,
    "hideHardwareSpecs": false,
    "memoryGiB": 128,
    "name": "ml.g5.8xlarge",
    "vcpuNum": 32
   },
   {
    "_defaultOrder": 51,
    "_isFastLaunch": false,
    "category": "Accelerated computing",
    "gpuNum": 1,
    "hideHardwareSpecs": false,
    "memoryGiB": 256,
    "name": "ml.g5.16xlarge",
    "vcpuNum": 64
   },
   {
    "_defaultOrder": 52,
    "_isFastLaunch": false,
    "category": "Accelerated computing",
    "gpuNum": 4,
    "hideHardwareSpecs": false,
    "memoryGiB": 192,
    "name": "ml.g5.12xlarge",
    "vcpuNum": 48
   },
   {
    "_defaultOrder": 53,
    "_isFastLaunch": false,
    "category": "Accelerated computing",
    "gpuNum": 4,
    "hideHardwareSpecs": false,
    "memoryGiB": 384,
    "name": "ml.g5.24xlarge",
    "vcpuNum": 96
   },
   {
    "_defaultOrder": 54,
    "_isFastLaunch": false,
    "category": "Accelerated computing",
    "gpuNum": 8,
    "hideHardwareSpecs": false,
    "memoryGiB": 768,
    "name": "ml.g5.48xlarge",
    "vcpuNum": 192
   },
   {
    "_defaultOrder": 55,
    "_isFastLaunch": false,
    "category": "Accelerated computing",
    "gpuNum": 8,
    "hideHardwareSpecs": false,
    "memoryGiB": 1152,
    "name": "ml.p4d.24xlarge",
    "vcpuNum": 96
   },
   {
    "_defaultOrder": 56,
    "_isFastLaunch": false,
    "category": "Accelerated computing",
    "gpuNum": 8,
    "hideHardwareSpecs": false,
    "memoryGiB": 1152,
    "name": "ml.p4de.24xlarge",
    "vcpuNum": 96
   },
   {
    "_defaultOrder": 57,
    "_isFastLaunch": false,
    "category": "Accelerated computing",
    "gpuNum": 0,
    "hideHardwareSpecs": false,
    "memoryGiB": 32,
    "name": "ml.trn1.2xlarge",
    "vcpuNum": 8
   },
   {
    "_defaultOrder": 58,
    "_isFastLaunch": false,
    "category": "Accelerated computing",
    "gpuNum": 0,
    "hideHardwareSpecs": false,
    "memoryGiB": 512,
    "name": "ml.trn1.32xlarge",
    "vcpuNum": 128
   },
   {
    "_defaultOrder": 59,
    "_isFastLaunch": false,
    "category": "Accelerated computing",
    "gpuNum": 0,
    "hideHardwareSpecs": false,
    "memoryGiB": 512,
    "name": "ml.trn1n.32xlarge",
    "vcpuNum": 128
   }
  ],
  "instance_type": "ml.t3.medium",
  "kernelspec": {
   "display_name": "Python 3 (Data Science 2.0)",
   "language": "python",
   "name": "python3__SAGEMAKER_INTERNAL__arn:aws:sagemaker:us-east-1:081325390199:image/sagemaker-data-science-38"
  },
  "language_info": {
   "codemirror_mode": {
    "name": "ipython",
    "version": 3
   },
   "file_extension": ".py",
   "mimetype": "text/x-python",
   "name": "python",
   "nbconvert_exporter": "python",
   "pygments_lexer": "ipython3",
   "version": "3.8.13"
  }
 },
 "nbformat": 4,
 "nbformat_minor": 5
}
